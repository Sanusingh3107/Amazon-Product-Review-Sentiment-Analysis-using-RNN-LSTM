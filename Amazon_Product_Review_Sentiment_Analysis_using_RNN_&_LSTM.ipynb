{
  "cells": [
    {
      "cell_type": "markdown",
      "metadata": {
        "id": "view-in-github",
        "colab_type": "text"
      },
      "source": [
        "<a href=\"https://colab.research.google.com/github/Sanusingh3107/Amazon-Product-Review-Sentiment-Analysis-using-RNN-LSTM/blob/main/Amazon_Product_Review_Sentiment_Analysis_using_RNN_%26_LSTM.ipynb\" target=\"_parent\"><img src=\"https://colab.research.google.com/assets/colab-badge.svg\" alt=\"Open In Colab\"/></a>"
      ]
    },
    {
      "cell_type": "code",
      "execution_count": null,
      "metadata": {
        "id": "VlxLk9wdWacy"
      },
      "outputs": [],
      "source": [
        "import warnings\n",
        "warnings.filterwarnings('ignore')\n",
        "\n",
        "# Data manipulation and analysis\n",
        "import pandas as pd\n",
        "import numpy as np\n",
        "\n",
        "# Data visualization\n",
        "import matplotlib.pyplot as plt\n",
        "import seaborn as sns\n",
        "\n",
        "# Text processing\n",
        "import re\n",
        "import nltk\n",
        "from nltk.corpus import stopwords\n",
        "from nltk.tokenize import word_tokenize\n",
        "\n",
        "# Sklearn for train test split\n",
        "from sklearn.model_selection import train_test_split\n",
        "\n",
        "# TensorFlow and Keras for machine learning\n",
        "import tensorflow as tf\n",
        "from tensorflow.keras.layers import SimpleRNN, LSTM, Dense, Dropout, Embedding, BatchNormalization\n",
        "from tensorflow.keras.models import Sequential\n",
        "from tensorflow.keras.preprocessing.text import Tokenizer\n",
        "from tensorflow.keras.utils import pad_sequences"
      ]
    },
    {
      "cell_type": "code",
      "execution_count": null,
      "metadata": {
        "id": "HmyTiqhNU7pA"
      },
      "outputs": [],
      "source": [
        "data = pd.read_csv('/content/Amazon-Product-Review-Sentiment-Analysis-using-RNN-Dataset.csv')"
      ]
    },
    {
      "cell_type": "code",
      "execution_count": null,
      "metadata": {
        "colab": {
          "base_uri": "https://localhost:8080/",
          "height": 206
        },
        "id": "EypyoMS6WYiy",
        "outputId": "d6142b70-8de3-48aa-98a1-ed76ec65ba30"
      },
      "outputs": [
        {
          "output_type": "execute_result",
          "data": {
            "text/plain": [
              "                                              Review  Sentiment\n",
              "0  Fast shipping but this product is very cheaply...          1\n",
              "1  This case takes so long to ship and it's not e...          1\n",
              "2  Good for not droids. Not good for iPhones. You...          1\n",
              "3  The cable was not compatible between my macboo...          1\n",
              "4  The case is nice but did not have a glow light...          1"
            ],
            "text/html": [
              "\n",
              "  <div id=\"df-79382127-8284-4c10-ac3d-08248a8aa284\" class=\"colab-df-container\">\n",
              "    <div>\n",
              "<style scoped>\n",
              "    .dataframe tbody tr th:only-of-type {\n",
              "        vertical-align: middle;\n",
              "    }\n",
              "\n",
              "    .dataframe tbody tr th {\n",
              "        vertical-align: top;\n",
              "    }\n",
              "\n",
              "    .dataframe thead th {\n",
              "        text-align: right;\n",
              "    }\n",
              "</style>\n",
              "<table border=\"1\" class=\"dataframe\">\n",
              "  <thead>\n",
              "    <tr style=\"text-align: right;\">\n",
              "      <th></th>\n",
              "      <th>Review</th>\n",
              "      <th>Sentiment</th>\n",
              "    </tr>\n",
              "  </thead>\n",
              "  <tbody>\n",
              "    <tr>\n",
              "      <th>0</th>\n",
              "      <td>Fast shipping but this product is very cheaply...</td>\n",
              "      <td>1</td>\n",
              "    </tr>\n",
              "    <tr>\n",
              "      <th>1</th>\n",
              "      <td>This case takes so long to ship and it's not e...</td>\n",
              "      <td>1</td>\n",
              "    </tr>\n",
              "    <tr>\n",
              "      <th>2</th>\n",
              "      <td>Good for not droids. Not good for iPhones. You...</td>\n",
              "      <td>1</td>\n",
              "    </tr>\n",
              "    <tr>\n",
              "      <th>3</th>\n",
              "      <td>The cable was not compatible between my macboo...</td>\n",
              "      <td>1</td>\n",
              "    </tr>\n",
              "    <tr>\n",
              "      <th>4</th>\n",
              "      <td>The case is nice but did not have a glow light...</td>\n",
              "      <td>1</td>\n",
              "    </tr>\n",
              "  </tbody>\n",
              "</table>\n",
              "</div>\n",
              "    <div class=\"colab-df-buttons\">\n",
              "\n",
              "  <div class=\"colab-df-container\">\n",
              "    <button class=\"colab-df-convert\" onclick=\"convertToInteractive('df-79382127-8284-4c10-ac3d-08248a8aa284')\"\n",
              "            title=\"Convert this dataframe to an interactive table.\"\n",
              "            style=\"display:none;\">\n",
              "\n",
              "  <svg xmlns=\"http://www.w3.org/2000/svg\" height=\"24px\" viewBox=\"0 -960 960 960\">\n",
              "    <path d=\"M120-120v-720h720v720H120Zm60-500h600v-160H180v160Zm220 220h160v-160H400v160Zm0 220h160v-160H400v160ZM180-400h160v-160H180v160Zm440 0h160v-160H620v160ZM180-180h160v-160H180v160Zm440 0h160v-160H620v160Z\"/>\n",
              "  </svg>\n",
              "    </button>\n",
              "\n",
              "  <style>\n",
              "    .colab-df-container {\n",
              "      display:flex;\n",
              "      gap: 12px;\n",
              "    }\n",
              "\n",
              "    .colab-df-convert {\n",
              "      background-color: #E8F0FE;\n",
              "      border: none;\n",
              "      border-radius: 50%;\n",
              "      cursor: pointer;\n",
              "      display: none;\n",
              "      fill: #1967D2;\n",
              "      height: 32px;\n",
              "      padding: 0 0 0 0;\n",
              "      width: 32px;\n",
              "    }\n",
              "\n",
              "    .colab-df-convert:hover {\n",
              "      background-color: #E2EBFA;\n",
              "      box-shadow: 0px 1px 2px rgba(60, 64, 67, 0.3), 0px 1px 3px 1px rgba(60, 64, 67, 0.15);\n",
              "      fill: #174EA6;\n",
              "    }\n",
              "\n",
              "    .colab-df-buttons div {\n",
              "      margin-bottom: 4px;\n",
              "    }\n",
              "\n",
              "    [theme=dark] .colab-df-convert {\n",
              "      background-color: #3B4455;\n",
              "      fill: #D2E3FC;\n",
              "    }\n",
              "\n",
              "    [theme=dark] .colab-df-convert:hover {\n",
              "      background-color: #434B5C;\n",
              "      box-shadow: 0px 1px 3px 1px rgba(0, 0, 0, 0.15);\n",
              "      filter: drop-shadow(0px 1px 2px rgba(0, 0, 0, 0.3));\n",
              "      fill: #FFFFFF;\n",
              "    }\n",
              "  </style>\n",
              "\n",
              "    <script>\n",
              "      const buttonEl =\n",
              "        document.querySelector('#df-79382127-8284-4c10-ac3d-08248a8aa284 button.colab-df-convert');\n",
              "      buttonEl.style.display =\n",
              "        google.colab.kernel.accessAllowed ? 'block' : 'none';\n",
              "\n",
              "      async function convertToInteractive(key) {\n",
              "        const element = document.querySelector('#df-79382127-8284-4c10-ac3d-08248a8aa284');\n",
              "        const dataTable =\n",
              "          await google.colab.kernel.invokeFunction('convertToInteractive',\n",
              "                                                    [key], {});\n",
              "        if (!dataTable) return;\n",
              "\n",
              "        const docLinkHtml = 'Like what you see? Visit the ' +\n",
              "          '<a target=\"_blank\" href=https://colab.research.google.com/notebooks/data_table.ipynb>data table notebook</a>'\n",
              "          + ' to learn more about interactive tables.';\n",
              "        element.innerHTML = '';\n",
              "        dataTable['output_type'] = 'display_data';\n",
              "        await google.colab.output.renderOutput(dataTable, element);\n",
              "        const docLink = document.createElement('div');\n",
              "        docLink.innerHTML = docLinkHtml;\n",
              "        element.appendChild(docLink);\n",
              "      }\n",
              "    </script>\n",
              "  </div>\n",
              "\n",
              "\n",
              "<div id=\"df-2bc1c127-1562-4752-8fb8-75522e42245b\">\n",
              "  <button class=\"colab-df-quickchart\" onclick=\"quickchart('df-2bc1c127-1562-4752-8fb8-75522e42245b')\"\n",
              "            title=\"Suggest charts\"\n",
              "            style=\"display:none;\">\n",
              "\n",
              "<svg xmlns=\"http://www.w3.org/2000/svg\" height=\"24px\"viewBox=\"0 0 24 24\"\n",
              "     width=\"24px\">\n",
              "    <g>\n",
              "        <path d=\"M19 3H5c-1.1 0-2 .9-2 2v14c0 1.1.9 2 2 2h14c1.1 0 2-.9 2-2V5c0-1.1-.9-2-2-2zM9 17H7v-7h2v7zm4 0h-2V7h2v10zm4 0h-2v-4h2v4z\"/>\n",
              "    </g>\n",
              "</svg>\n",
              "  </button>\n",
              "\n",
              "<style>\n",
              "  .colab-df-quickchart {\n",
              "      --bg-color: #E8F0FE;\n",
              "      --fill-color: #1967D2;\n",
              "      --hover-bg-color: #E2EBFA;\n",
              "      --hover-fill-color: #174EA6;\n",
              "      --disabled-fill-color: #AAA;\n",
              "      --disabled-bg-color: #DDD;\n",
              "  }\n",
              "\n",
              "  [theme=dark] .colab-df-quickchart {\n",
              "      --bg-color: #3B4455;\n",
              "      --fill-color: #D2E3FC;\n",
              "      --hover-bg-color: #434B5C;\n",
              "      --hover-fill-color: #FFFFFF;\n",
              "      --disabled-bg-color: #3B4455;\n",
              "      --disabled-fill-color: #666;\n",
              "  }\n",
              "\n",
              "  .colab-df-quickchart {\n",
              "    background-color: var(--bg-color);\n",
              "    border: none;\n",
              "    border-radius: 50%;\n",
              "    cursor: pointer;\n",
              "    display: none;\n",
              "    fill: var(--fill-color);\n",
              "    height: 32px;\n",
              "    padding: 0;\n",
              "    width: 32px;\n",
              "  }\n",
              "\n",
              "  .colab-df-quickchart:hover {\n",
              "    background-color: var(--hover-bg-color);\n",
              "    box-shadow: 0 1px 2px rgba(60, 64, 67, 0.3), 0 1px 3px 1px rgba(60, 64, 67, 0.15);\n",
              "    fill: var(--button-hover-fill-color);\n",
              "  }\n",
              "\n",
              "  .colab-df-quickchart-complete:disabled,\n",
              "  .colab-df-quickchart-complete:disabled:hover {\n",
              "    background-color: var(--disabled-bg-color);\n",
              "    fill: var(--disabled-fill-color);\n",
              "    box-shadow: none;\n",
              "  }\n",
              "\n",
              "  .colab-df-spinner {\n",
              "    border: 2px solid var(--fill-color);\n",
              "    border-color: transparent;\n",
              "    border-bottom-color: var(--fill-color);\n",
              "    animation:\n",
              "      spin 1s steps(1) infinite;\n",
              "  }\n",
              "\n",
              "  @keyframes spin {\n",
              "    0% {\n",
              "      border-color: transparent;\n",
              "      border-bottom-color: var(--fill-color);\n",
              "      border-left-color: var(--fill-color);\n",
              "    }\n",
              "    20% {\n",
              "      border-color: transparent;\n",
              "      border-left-color: var(--fill-color);\n",
              "      border-top-color: var(--fill-color);\n",
              "    }\n",
              "    30% {\n",
              "      border-color: transparent;\n",
              "      border-left-color: var(--fill-color);\n",
              "      border-top-color: var(--fill-color);\n",
              "      border-right-color: var(--fill-color);\n",
              "    }\n",
              "    40% {\n",
              "      border-color: transparent;\n",
              "      border-right-color: var(--fill-color);\n",
              "      border-top-color: var(--fill-color);\n",
              "    }\n",
              "    60% {\n",
              "      border-color: transparent;\n",
              "      border-right-color: var(--fill-color);\n",
              "    }\n",
              "    80% {\n",
              "      border-color: transparent;\n",
              "      border-right-color: var(--fill-color);\n",
              "      border-bottom-color: var(--fill-color);\n",
              "    }\n",
              "    90% {\n",
              "      border-color: transparent;\n",
              "      border-bottom-color: var(--fill-color);\n",
              "    }\n",
              "  }\n",
              "</style>\n",
              "\n",
              "  <script>\n",
              "    async function quickchart(key) {\n",
              "      const quickchartButtonEl =\n",
              "        document.querySelector('#' + key + ' button');\n",
              "      quickchartButtonEl.disabled = true;  // To prevent multiple clicks.\n",
              "      quickchartButtonEl.classList.add('colab-df-spinner');\n",
              "      try {\n",
              "        const charts = await google.colab.kernel.invokeFunction(\n",
              "            'suggestCharts', [key], {});\n",
              "      } catch (error) {\n",
              "        console.error('Error during call to suggestCharts:', error);\n",
              "      }\n",
              "      quickchartButtonEl.classList.remove('colab-df-spinner');\n",
              "      quickchartButtonEl.classList.add('colab-df-quickchart-complete');\n",
              "    }\n",
              "    (() => {\n",
              "      let quickchartButtonEl =\n",
              "        document.querySelector('#df-2bc1c127-1562-4752-8fb8-75522e42245b button');\n",
              "      quickchartButtonEl.style.display =\n",
              "        google.colab.kernel.accessAllowed ? 'block' : 'none';\n",
              "    })();\n",
              "  </script>\n",
              "</div>\n",
              "\n",
              "    </div>\n",
              "  </div>\n"
            ],
            "application/vnd.google.colaboratory.intrinsic+json": {
              "type": "dataframe",
              "variable_name": "data",
              "summary": "{\n  \"name\": \"data\",\n  \"rows\": 25000,\n  \"fields\": [\n    {\n      \"column\": \"Review\",\n      \"properties\": {\n        \"dtype\": \"string\",\n        \"num_unique_values\": 24744,\n        \"samples\": [\n          \"Finally got my radio back in my truck. Been meaning to for two years. This is actually a Yaesu kit, I've had one before and it is identical.\",\n          \"After 3 months of use, this iPod cover has lost quite a few crystals, but the overall appearance is still ok. The crystals have fallen out around the corners and areas of the cover that likely get the most abuse. I have to admit, my daughter throws it in her purse and gym bag, so anything that can withstand that kind of impact isn't all that bad. NOTE: This item will NOT protect the iPod from water damage.\",\n          \"This actually the first external battery I've tried since the iPhone 4 days (now an Android phone user).  The first experience I had with an external battery and an iPhone4 was quite underwhelming to say the least.  Its 1200mAh capacity can only charge the old iPhone 4 from 0% to about 60% of its capacity while the phone is sitting idle.  It means very short hours on a 10+ hours oversea flight where entertainment on a mobile device is crucial.<br /><br />I'm pleasantly surprised by the NewTrent external battery and all the ports options it had.  It easily charges my HTC One X+ from zero to 100% charge twice including phone usage in between.<br /><br />One of the key feature that I liked the most is the little button on the external battery itself.  The external battery does not start charging automatically once your device when it's plugged in.  You will have to press the button to start charging.  That certainly prevented the external battery from draining too fast.<br /><br />I also like all the port options they offered on this external battery.  It pretty much covers all the port options you will need for your mobile devices.  The 7000mAH capacity will certainly come in handy during oversea business trips.\"\n        ],\n        \"semantic_type\": \"\",\n        \"description\": \"\"\n      }\n    },\n    {\n      \"column\": \"Sentiment\",\n      \"properties\": {\n        \"dtype\": \"number\",\n        \"std\": 1,\n        \"min\": 1,\n        \"max\": 5,\n        \"num_unique_values\": 5,\n        \"samples\": [\n          2,\n          5,\n          3\n        ],\n        \"semantic_type\": \"\",\n        \"description\": \"\"\n      }\n    }\n  ]\n}"
            }
          },
          "metadata": {},
          "execution_count": 5
        }
      ],
      "source": [
        "data.head()"
      ]
    },
    {
      "cell_type": "code",
      "execution_count": null,
      "metadata": {
        "colab": {
          "base_uri": "https://localhost:8080/"
        },
        "id": "Fouq8JJ5WrmZ",
        "outputId": "59925bfd-c94a-42bf-8a3e-45cca4610236"
      },
      "outputs": [
        {
          "output_type": "stream",
          "name": "stdout",
          "text": [
            "<class 'pandas.core.frame.DataFrame'>\n",
            "RangeIndex: 25000 entries, 0 to 24999\n",
            "Data columns (total 2 columns):\n",
            " #   Column     Non-Null Count  Dtype \n",
            "---  ------     --------------  ----- \n",
            " 0   Review     24999 non-null  object\n",
            " 1   Sentiment  25000 non-null  int64 \n",
            "dtypes: int64(1), object(1)\n",
            "memory usage: 390.8+ KB\n",
            "None\n"
          ]
        }
      ],
      "source": [
        "print(data.info())"
      ]
    },
    {
      "cell_type": "code",
      "execution_count": null,
      "metadata": {
        "colab": {
          "base_uri": "https://localhost:8080/"
        },
        "id": "MxHldrwNWxRd",
        "outputId": "0b767adc-3fdf-422a-88cd-c5dbf751d3e7"
      },
      "outputs": [
        {
          "output_type": "stream",
          "name": "stdout",
          "text": [
            "(25000, 2)\n"
          ]
        }
      ],
      "source": [
        "print(data.shape)"
      ]
    },
    {
      "cell_type": "code",
      "execution_count": null,
      "metadata": {
        "colab": {
          "base_uri": "https://localhost:8080/"
        },
        "id": "q08nvXzzW0k0",
        "outputId": "b18185d4-4aa4-42a1-a9cb-af9ea742e8b6"
      },
      "outputs": [
        {
          "output_type": "stream",
          "name": "stdout",
          "text": [
            "Null Values:\n",
            " Review       1\n",
            "Sentiment    0\n",
            "dtype: int64\n"
          ]
        }
      ],
      "source": [
        "print(\"Null Values:\\n\", data.isna().sum())"
      ]
    },
    {
      "cell_type": "code",
      "execution_count": null,
      "metadata": {
        "id": "SxNI_QqQW4zm"
      },
      "outputs": [],
      "source": [
        "data = data.dropna()"
      ]
    },
    {
      "cell_type": "code",
      "execution_count": null,
      "metadata": {
        "colab": {
          "base_uri": "https://localhost:8080/"
        },
        "id": "P4jXbZmhW7kj",
        "outputId": "e12fc6b7-818f-48c7-b05d-391c63f6d27b"
      },
      "outputs": [
        {
          "output_type": "stream",
          "name": "stdout",
          "text": [
            "Null Values after dropping:\n",
            " Review       0\n",
            "Sentiment    0\n",
            "dtype: int64\n"
          ]
        }
      ],
      "source": [
        "print(\"Null Values after dropping:\\n\", data.isna().sum())"
      ]
    },
    {
      "cell_type": "code",
      "execution_count": null,
      "metadata": {
        "colab": {
          "base_uri": "https://localhost:8080/",
          "height": 272
        },
        "id": "5ai-qGYNW-4k",
        "outputId": "85689af4-b794-4465-d2b9-68b2312f126e"
      },
      "outputs": [
        {
          "output_type": "execute_result",
          "data": {
            "text/plain": [
              "Sentiment\n",
              "1    5000\n",
              "2    5000\n",
              "3    5000\n",
              "4    5000\n",
              "5    4999\n",
              "Name: count, dtype: int64"
            ],
            "text/html": [
              "<div>\n",
              "<style scoped>\n",
              "    .dataframe tbody tr th:only-of-type {\n",
              "        vertical-align: middle;\n",
              "    }\n",
              "\n",
              "    .dataframe tbody tr th {\n",
              "        vertical-align: top;\n",
              "    }\n",
              "\n",
              "    .dataframe thead th {\n",
              "        text-align: right;\n",
              "    }\n",
              "</style>\n",
              "<table border=\"1\" class=\"dataframe\">\n",
              "  <thead>\n",
              "    <tr style=\"text-align: right;\">\n",
              "      <th></th>\n",
              "      <th>count</th>\n",
              "    </tr>\n",
              "    <tr>\n",
              "      <th>Sentiment</th>\n",
              "      <th></th>\n",
              "    </tr>\n",
              "  </thead>\n",
              "  <tbody>\n",
              "    <tr>\n",
              "      <th>1</th>\n",
              "      <td>5000</td>\n",
              "    </tr>\n",
              "    <tr>\n",
              "      <th>2</th>\n",
              "      <td>5000</td>\n",
              "    </tr>\n",
              "    <tr>\n",
              "      <th>3</th>\n",
              "      <td>5000</td>\n",
              "    </tr>\n",
              "    <tr>\n",
              "      <th>4</th>\n",
              "      <td>5000</td>\n",
              "    </tr>\n",
              "    <tr>\n",
              "      <th>5</th>\n",
              "      <td>4999</td>\n",
              "    </tr>\n",
              "  </tbody>\n",
              "</table>\n",
              "</div><br><label><b>dtype:</b> int64</label>"
            ]
          },
          "metadata": {},
          "execution_count": 11
        }
      ],
      "source": [
        "data['Sentiment'].value_counts()"
      ]
    },
    {
      "cell_type": "code",
      "execution_count": null,
      "metadata": {
        "colab": {
          "base_uri": "https://localhost:8080/"
        },
        "id": "gvLAfjW7XCxW",
        "outputId": "dcf15dd7-b0e5-45f3-9e49-8182f198f536"
      },
      "outputs": [
        {
          "output_type": "stream",
          "name": "stderr",
          "text": [
            "[nltk_data] Downloading package stopwords to /root/nltk_data...\n",
            "[nltk_data]   Unzipping corpora/stopwords.zip.\n",
            "[nltk_data] Downloading package punkt to /root/nltk_data...\n",
            "[nltk_data]   Unzipping tokenizers/punkt.zip.\n"
          ]
        }
      ],
      "source": [
        "nltk.download('stopwords')\n",
        "stop_words = set(stopwords.words('english'))\n",
        "\n",
        "nltk.download('punkt')\n",
        "\n",
        "# Review Text Cleaning\n",
        "def clean_reviews(text):\n",
        "\n",
        "    # removing brackets from the string using regex\n",
        "    regex = re.compile('<.?>')\n",
        "    text = re.sub(regex, ' ', text)\n",
        "\n",
        "    # removing special characters\n",
        "    pattern = re.compile('[^a-zA-Z0-9\\s]')\n",
        "    text = re.sub(pattern, '', text)\n",
        "\n",
        "    # removing numbers\n",
        "    pattern = re.compile('[\\d+]')\n",
        "    text = re.sub(pattern, '', text)\n",
        "\n",
        "    # converting text to lower case\n",
        "    text = text.lower()\n",
        "\n",
        "    # Tokenization of words\n",
        "    text = word_tokenize(text)\n",
        "\n",
        "    # Removing stop words\n",
        "    text = [word for word in text if word not in stop_words]\n",
        "\n",
        "    return text\n",
        "\n",
        "data['Review'] = data['Review'].apply(clean_reviews)"
      ]
    },
    {
      "cell_type": "code",
      "execution_count": null,
      "metadata": {
        "colab": {
          "base_uri": "https://localhost:8080/"
        },
        "id": "Z7DAl4Y6jRV9",
        "outputId": "e669a282-b8df-4084-854c-ea0fc2846501"
      },
      "outputs": [
        {
          "output_type": "stream",
          "name": "stdout",
          "text": [
            "(24999, 500) (24999, 5)\n"
          ]
        }
      ],
      "source": [
        "tokenizer = Tokenizer()\n",
        "\n",
        "# Convert all reviews to list\n",
        "reviews_to_list = data['Review'].tolist()\n",
        "tokenizer.fit_on_texts(reviews_to_list)\n",
        "\n",
        "# Generate text sequence\n",
        "text_sequences = tokenizer.texts_to_sequences(reviews_to_list)\n",
        "\n",
        "max_words = 500\n",
        "\n",
        "# Padding sequences\n",
        "padded_sequences = pad_sequences(text_sequences, maxlen=max_words)\n",
        "text_sequences = np.array(padded_sequences)\n",
        "\n",
        "# one hot encoding\n",
        "data = pd.get_dummies(data, columns = ['Sentiment'])\n",
        "\n",
        "# Generatin our X (input) to the model\n",
        "# using pad_sequences and y (output)\n",
        "x = pad_sequences(text_sequences, maxlen = max_words)\n",
        "y = data[['Sentiment_1', 'Sentiment_2', 'Sentiment_3', 'Sentiment_4',\n",
        "    'Sentiment_5']]\n",
        "print(x.shape, y.shape)"
      ]
    },
    {
      "cell_type": "code",
      "execution_count": null,
      "metadata": {
        "colab": {
          "base_uri": "https://localhost:8080/"
        },
        "id": "u9tJ-OYtnucd",
        "outputId": "c09f31aa-2f0f-40d0-e646-d27d2b7eacaa"
      },
      "outputs": [
        {
          "output_type": "stream",
          "name": "stdout",
          "text": [
            "(19999, 500) (19999, 5)\n",
            "(5000, 500) (5000, 5)\n"
          ]
        }
      ],
      "source": [
        "x_train,x_test,y_train,y_test = train_test_split(x,y,test_size=0.2,random_state=42)\n",
        "print(x_train.shape,y_train.shape)\n",
        "print(x_test.shape,y_test.shape)"
      ]
    },
    {
      "cell_type": "code",
      "execution_count": null,
      "metadata": {
        "colab": {
          "base_uri": "https://localhost:8080/"
        },
        "id": "HPZqw9xUuc2s",
        "outputId": "26211c92-a619-4637-f837-30ca695baff0"
      },
      "outputs": [
        {
          "output_type": "stream",
          "name": "stdout",
          "text": [
            "Model: \"Simple_RNN\"\n",
            "_________________________________________________________________\n",
            " Layer (type)                Output Shape              Param #   \n",
            "=================================================================\n",
            " embedding (Embedding)       (None, 500, 500)          17276000  \n",
            "                                                                 \n",
            " simple_rnn (SimpleRNN)      (None, 500, 128)          80512     \n",
            "                                                                 \n",
            " simple_rnn_1 (SimpleRNN)    (None, 64)                12352     \n",
            "                                                                 \n",
            " dense (Dense)               (None, 5)                 325       \n",
            "                                                                 \n",
            "=================================================================\n",
            "Total params: 17369189 (66.26 MB)\n",
            "Trainable params: 17369189 (66.26 MB)\n",
            "Non-trainable params: 0 (0.00 Byte)\n",
            "_________________________________________________________________\n",
            "None\n"
          ]
        }
      ],
      "source": [
        "rnn = Sequential(name=\"Simple_RNN\")\n",
        "rnn.add(Embedding(len(tokenizer.word_index)+1,\n",
        "                  max_words,\n",
        "                  input_length=max_words))\n",
        "rnn.add(SimpleRNN(128, activation = \"relu\", return_sequences=True))\n",
        "rnn.add(SimpleRNN(64, activation = \"relu\", return_sequences=False))\n",
        "rnn.add(Dense(5, activation = \"softmax\"))\n",
        "\n",
        "print(rnn.summary())"
      ]
    },
    {
      "cell_type": "code",
      "execution_count": null,
      "metadata": {
        "colab": {
          "base_uri": "https://localhost:8080/"
        },
        "id": "Mxo-k8fN2M-B",
        "outputId": "dfb655be-29fd-4f84-ec3c-fe521aff5ed6"
      },
      "outputs": [
        {
          "output_type": "stream",
          "name": "stdout",
          "text": [
            "Epoch 1/10\n",
            "313/313 [==============================] - 164s 517ms/step - loss: 1.4240 - accuracy: 0.3466 - val_loss: 1.2534 - val_accuracy: 0.4448\n",
            "Epoch 2/10\n",
            "313/313 [==============================] - 161s 514ms/step - loss: 1.0942 - accuracy: 0.5371 - val_loss: 1.2923 - val_accuracy: 0.4276\n",
            "Epoch 3/10\n",
            "313/313 [==============================] - 161s 513ms/step - loss: 0.8000 - accuracy: 0.6849 - val_loss: 1.4701 - val_accuracy: 0.4214\n",
            "Epoch 4/10\n",
            "313/313 [==============================] - 159s 510ms/step - loss: 0.5208 - accuracy: 0.8071 - val_loss: 1.7757 - val_accuracy: 0.3992\n",
            "Epoch 5/10\n",
            "313/313 [==============================] - 158s 503ms/step - loss: 0.3213 - accuracy: 0.8843 - val_loss: 2.1679 - val_accuracy: 0.4288\n",
            "Epoch 6/10\n",
            "313/313 [==============================] - 157s 503ms/step - loss: 0.2040 - accuracy: 0.9286 - val_loss: 2.4366 - val_accuracy: 0.3978\n",
            "Epoch 7/10\n",
            "313/313 [==============================] - 158s 504ms/step - loss: 0.1718 - accuracy: 0.9405 - val_loss: 2.9341 - val_accuracy: 0.3880\n",
            "Epoch 8/10\n",
            "313/313 [==============================] - 157s 503ms/step - loss: 0.1277 - accuracy: 0.9560 - val_loss: 3.0864 - val_accuracy: 0.3938\n",
            "Epoch 9/10\n",
            "313/313 [==============================] - 158s 505ms/step - loss: 0.1046 - accuracy: 0.9623 - val_loss: 3.5093 - val_accuracy: 0.3908\n",
            "Epoch 10/10\n",
            "313/313 [==============================] - 158s 505ms/step - loss: 0.0890 - accuracy: 0.9695 - val_loss: 3.6920 - val_accuracy: 0.3916\n",
            "157/157 [==============================] - 11s 70ms/step - loss: 3.6920 - accuracy: 0.3916\n",
            "Simple_RNN Score--->  [3.6920125484466553, 0.39160001277923584]\n"
          ]
        }
      ],
      "source": [
        "# Compiling model\n",
        "rnn.compile(\n",
        "    loss=\"categorical_crossentropy\",\n",
        "    optimizer='adam',\n",
        "    metrics=['accuracy']\n",
        ")\n",
        "\n",
        "# Training the model\n",
        "history = rnn.fit(x_train, y_train,\n",
        "                        batch_size=64,\n",
        "                        epochs=10,\n",
        "                        verbose=1,\n",
        "                          validation_data = (x_test, y_test))\n",
        "\n",
        "# Printing model score on test data\n",
        "print(\"Simple_RNN Score---> \", rnn.evaluate(x_test, y_test, verbose=1))\n"
      ]
    },
    {
      "cell_type": "code",
      "execution_count": null,
      "metadata": {
        "id": "UPPM3MR-2zw1",
        "colab": {
          "base_uri": "https://localhost:8080/"
        },
        "outputId": "2db0812b-7061-4189-d747-e2a14cd6d769"
      },
      "outputs": [
        {
          "output_type": "stream",
          "name": "stdout",
          "text": [
            "Model: \"LSTM_Model\"\n",
            "_________________________________________________________________\n",
            " Layer (type)                Output Shape              Param #   \n",
            "=================================================================\n",
            " embedding_4 (Embedding)     (None, 500, 500)          17276000  \n",
            "                                                                 \n",
            " lstm_6 (LSTM)               (None, 150)               390600    \n",
            "                                                                 \n",
            " dropout_7 (Dropout)         (None, 150)               0         \n",
            "                                                                 \n",
            " dense_3 (Dense)             (None, 50)                7550      \n",
            "                                                                 \n",
            " dropout_8 (Dropout)         (None, 50)                0         \n",
            "                                                                 \n",
            " dense_4 (Dense)             (None, 5)                 255       \n",
            "                                                                 \n",
            "=================================================================\n",
            "Total params: 17674405 (67.42 MB)\n",
            "Trainable params: 17674405 (67.42 MB)\n",
            "Non-trainable params: 0 (0.00 Byte)\n",
            "_________________________________________________________________\n",
            "None\n"
          ]
        }
      ],
      "source": [
        "model = Sequential(name=\"LSTM_Model\")\n",
        "model.add(Embedding(len(tokenizer.word_index)+1,\n",
        "                    max_words,\n",
        "                    input_length=max_words))\n",
        "\n",
        "# adding a LSTM layer\n",
        "model.add(LSTM(150, return_sequences=False))\n",
        "BatchNormalization()\n",
        "model.add(Dropout(0.5))\n",
        "\n",
        "#adding a dense layer with activation function of relu\n",
        "model.add(Dense(50, activation='relu'))\n",
        "BatchNormalization()\n",
        "model.add(Dropout(0.5))\n",
        "\n",
        "# adding the final output activation with activation function of softmax\n",
        "model.add(Dense(5, activation='softmax'))\n",
        "\n",
        "# printing model summary\n",
        "print(model.summary())"
      ]
    },
    {
      "cell_type": "code",
      "execution_count": null,
      "metadata": {
        "id": "tlwcApxL-DmZ",
        "colab": {
          "base_uri": "https://localhost:8080/"
        },
        "outputId": "5e3ac3bb-1f59-4b13-b29d-23cc6e28d59a"
      },
      "outputs": [
        {
          "output_type": "stream",
          "name": "stdout",
          "text": [
            "Epoch 1/10\n",
            "313/313 [==============================] - 315s 1000ms/step - loss: 1.3744 - accuracy: 0.3767 - val_loss: 1.2292 - val_accuracy: 0.4668\n",
            "Epoch 2/10\n",
            "313/313 [==============================] - 312s 999ms/step - loss: 1.1032 - accuracy: 0.5282 - val_loss: 1.2228 - val_accuracy: 0.4752\n",
            "Epoch 3/10\n",
            "313/313 [==============================] - 313s 999ms/step - loss: 0.9195 - accuracy: 0.6194 - val_loss: 1.3740 - val_accuracy: 0.4458\n",
            "Epoch 4/10\n",
            "313/313 [==============================] - 313s 1s/step - loss: 0.7452 - accuracy: 0.7124 - val_loss: 1.5910 - val_accuracy: 0.4444\n",
            "Epoch 5/10\n",
            "313/313 [==============================] - 313s 1s/step - loss: 0.6016 - accuracy: 0.7790 - val_loss: 1.7530 - val_accuracy: 0.4368\n",
            "Epoch 6/10\n",
            "313/313 [==============================] - 313s 1s/step - loss: 0.4956 - accuracy: 0.8216 - val_loss: 2.0506 - val_accuracy: 0.4328\n",
            "Epoch 7/10\n",
            "313/313 [==============================] - 314s 1s/step - loss: 0.4319 - accuracy: 0.8442 - val_loss: 2.1474 - val_accuracy: 0.4364\n",
            "Epoch 8/10\n",
            "313/313 [==============================] - 314s 1s/step - loss: 0.3309 - accuracy: 0.8807 - val_loss: 2.5674 - val_accuracy: 0.4364\n",
            "Epoch 9/10\n",
            "313/313 [==============================] - 314s 1s/step - loss: 0.2785 - accuracy: 0.8986 - val_loss: 3.0271 - val_accuracy: 0.4208\n",
            "Epoch 10/10\n",
            "313/313 [==============================] - 313s 1s/step - loss: 0.2529 - accuracy: 0.9118 - val_loss: 3.0772 - val_accuracy: 0.4178\n",
            "157/157 [==============================] - 25s 160ms/step - loss: 3.0772 - accuracy: 0.4178\n",
            "LSTM model Score--->  [3.077160596847534, 0.41780000925064087]\n"
          ]
        }
      ],
      "source": [
        "# Compiling the model\n",
        "model.compile(\n",
        "    loss=\"categorical_crossentropy\",\n",
        "    optimizer='adam',\n",
        "    metrics=['accuracy']\n",
        ")\n",
        "\n",
        "# Training the GRU model\n",
        "history = model.fit(x_train, y_train,\n",
        "                         batch_size=64,\n",
        "                         epochs=10,\n",
        "                         verbose=1,\n",
        "                       validation_data=(x_test, y_test))\n",
        "\n",
        "# Printing model score on test data\n",
        "print(\"LSTM model Score---> \", model.evaluate(x_test, y_test, verbose=1))\n"
      ]
    },
    {
      "cell_type": "code",
      "execution_count": null,
      "metadata": {
        "id": "sH1FqMQ--IAV",
        "colab": {
          "base_uri": "https://localhost:8080/",
          "height": 482
        },
        "outputId": "61975a89-8167-4717-d6a9-846f5f23c1bd"
      },
      "outputs": [
        {
          "output_type": "execute_result",
          "data": {
            "text/plain": [
              "Text(0, 0.5, 'Accuracy')"
            ]
          },
          "metadata": {},
          "execution_count": 23
        },
        {
          "output_type": "display_data",
          "data": {
            "text/plain": [
              "<Figure size 1000x500 with 2 Axes>"
            ],
            "image/png": "[encoded data removed]"
          },
          "metadata": {}
        }
      ],
      "source": [
        "# Plotting the history\n",
        "metrics = history.history\n",
        "plt.figure(figsize=(10, 5))\n",
        "\n",
        "# Plotting training and validation loss\n",
        "plt.subplot(1, 2, 1)\n",
        "plt.plot(history.epoch, metrics['loss'], metrics['val_loss'])\n",
        "plt.legend(['loss', 'val_loss'])\n",
        "plt.xlabel('Epoch')\n",
        "plt.ylabel('Loss')\n",
        "\n",
        "# Plotting training and validation accuracy\n",
        "plt.subplot(1, 2, 2)\n",
        "plt.plot(history.epoch, metrics['accuracy'],\n",
        "         metrics['val_accuracy'])\n",
        "plt.legend(['accuracy', 'val_accuracy'])\n",
        "plt.xlabel('Epoch')\n",
        "plt.ylabel('Accuracy')\n"
      ]
    },
    {
      "cell_type": "code",
      "execution_count": null,
      "metadata": {
        "id": "xBcv68kya1R5",
        "colab": {
          "base_uri": "https://localhost:8080/",
          "height": 713
        },
        "outputId": "221e6ecd-0f6e-4a6d-d1ff-a4bcc889c2f3"
      },
      "outputs": [
        {
          "output_type": "stream",
          "name": "stdout",
          "text": [
            "157/157 [==============================] - 25s 159ms/step\n"
          ]
        },
        {
          "output_type": "display_data",
          "data": {
            "text/plain": [
              "<Figure size 1000x800 with 2 Axes>"
            ],
            "image/png": "[encoded data removed]"
          },
          "metadata": {}
        }
      ],
      "source": [
        "# converting y_test tht was one hot encoded to one column fo rconfusion matrix\n",
        "y_true = np.argmax(y_test.values, axis=1)\n",
        "y_true.shape\n",
        "\n",
        "# Confusion matrix\n",
        "y_pred = np.argmax(model.predict(x_test), axis=1)\n",
        "cm = tf.math.confusion_matrix(y_true, y_pred)\n",
        "\n",
        "# Plotting the confusion matrix\n",
        "plt.figure(figsize=(10, 8))\n",
        "sns.heatmap(cm, annot=True, fmt='g')\n",
        "plt.xlabel('Predicted')\n",
        "plt.ylabel('Actual')\n",
        "plt.show()\n"
      ]
    },
    {
      "cell_type": "code",
      "source": [
        "from sklearn.metrics import classification_report\n",
        "report = classification_report(y_true, y_pred)\n",
        "print(report)"
      ],
      "metadata": {
        "colab": {
          "base_uri": "https://localhost:8080/"
        },
        "id": "VNaZVF3pQ_0H",
        "outputId": "6c1f37ea-2b57-4c24-c4cf-e8c4ce544296"
      },
      "execution_count": null,
      "outputs": [
        {
          "output_type": "stream",
          "name": "stdout",
          "text": [
            "              precision    recall  f1-score   support\n",
            "\n",
            "           0       0.53      0.50      0.52      1021\n",
            "           1       0.34      0.32      0.33      1000\n",
            "           2       0.34      0.35      0.35       985\n",
            "           3       0.37      0.46      0.41       973\n",
            "           4       0.55      0.45      0.50      1021\n",
            "\n",
            "    accuracy                           0.42      5000\n",
            "   macro avg       0.42      0.42      0.42      5000\n",
            "weighted avg       0.43      0.42      0.42      5000\n",
            "\n"
          ]
        }
      ]
    },
    {
      "cell_type": "code",
      "source": [
        "def predict_review_rating(text):\n",
        "  text_sequences_test = np.array(tokenizer.texts_to_sequences([text]))\n",
        "  testing = pad_sequences(text_sequences_test, maxlen = max_words)\n",
        "  y_pred_test = np.argmax(model.predict(testing), axis=1)\n",
        "  return y_pred_test[0]+1\n",
        "\n",
        "# Testing\n",
        "rating1 = predict_review_rating('Worst product')\n",
        "print(\"The rating according to the review(Worst) is: \", rating1)\n",
        "\n",
        "rating2 = predict_review_rating('Awesome product,  I will recommend this to other users.')\n",
        "print(\"The rating according to the review(Best) is: \", rating2)\n"
      ],
      "metadata": {
        "colab": {
          "base_uri": "https://localhost:8080/"
        },
        "id": "ZT9j3hksRRQo",
        "outputId": "7310b559-02e6-44d9-bfaa-6058bb6691c3"
      },
      "execution_count": null,
      "outputs": [
        {
          "output_type": "stream",
          "name": "stdout",
          "text": [
            "1/1 [==============================] - 0s 73ms/step\n",
            "The rating according to the review(Worst) is:  1\n",
            "1/1 [==============================] - 0s 76ms/step\n",
            "The rating according to the review(Best) is:  4\n"
          ]
        }
      ]
    }
  ],
  "metadata": {
    "accelerator": "TPU",
    "colab": {
      "gpuType": "V28",
      "provenance": [],
      "authorship_tag": "ABX9TyPEeymRJAXlGGWZwTvwIHY+",
      "include_colab_link": true
    },
    "kernelspec": {
      "display_name": "Python 3",
      "name": "python3"
    },
    "language_info": {
      "name": "python"
    }
  },
  "nbformat": 4,
  "nbformat_minor": 0
}